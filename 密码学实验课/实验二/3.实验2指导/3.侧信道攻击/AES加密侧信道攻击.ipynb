{
 "cells": [
  {
   "cell_type": "markdown",
   "metadata": {},
   "source": [
    "<div style=\"height:100px\">\n",
    "    <div style=\"float: left\"><img src='../images/osr-logo.png' width=150px /></div>\n",
    "    <div style=\"float: left; margin-left:30px\"><span style=\"font-weight: normal; font-size: 30pt; color:#666666\">密码工程实验指引</span></div>\n",
    "    <img src='../images/osr-line.jpg' style=\"width:100%; height: 5px\" />\n",
    "</div>\n"
   ]
  },
  {
   "cell_type": "markdown",
   "metadata": {},
   "source": [
    "# 软件AES侧信道攻击"
   ]
  },
  {
   "cell_type": "markdown",
   "metadata": {},
   "source": [
    "## 实验目的"
   ]
  },
  {
   "cell_type": "markdown",
   "metadata": {},
   "source": [
    "通过实验，掌握对AES软件实现的CPA攻击方法，了解侧信道攻击的基本步骤。"
   ]
  },
  {
   "cell_type": "markdown",
   "metadata": {},
   "source": [
    "## 实验要求"
   ]
  },
  {
   "cell_type": "markdown",
   "metadata": {},
   "source": [
    "- 使用python [scared](https://github.com/eshard/scared) 库对软件AES成功实施CPA攻击，恢复密钥。"
   ]
  },
  {
   "cell_type": "markdown",
   "metadata": {},
   "source": [
    "## 实验环境需求"
   ]
  },
  {
   "cell_type": "markdown",
   "metadata": {},
   "source": [
    "- **硬件需求**\n",
    "    + OSR-Mega2560 或 OSR-407开发板\n",
    "    + Pico 3206D示波器\n",
    "- **软件需求**\n",
    "    + Arduino IDE\n",
    "    + osrtoolkit平台\n",
    "    + python scared库"
   ]
  },
  {
   "cell_type": "markdown",
   "metadata": {},
   "source": [
    "## 实验内容"
   ]
  },
  {
   "cell_type": "markdown",
   "metadata": {},
   "source": [
    "### CPA原理"
   ]
  },
  {
   "cell_type": "markdown",
   "metadata": {},
   "source": [
    "侧信道基本的模型假设如下图所示："
   ]
  },
  {
   "cell_type": "markdown",
   "metadata": {},
   "source": [
    "<img src=\"../images/侧信道攻击模型.png\" width=700px>"
   ]
  },
  {
   "cell_type": "markdown",
   "metadata": {},
   "source": [
    "攻击者监听密码算法运行泄露的侧信道信息（如功耗泄露）和通信信道信息（如明密文等），利用适当的模型和统计工具，建立密钥的区分器，对正确密钥进行恢复。"
   ]
  },
  {
   "cell_type": "markdown",
   "metadata": {},
   "source": [
    "相关能量攻击（CPA）是最常使用的一种攻击手段，利用相关性构建密钥区分器。其工作原理如下图所示："
   ]
  },
  {
   "cell_type": "markdown",
   "metadata": {},
   "source": [
    "<img src=\"../images/CPA.png\" width=600px>"
   ]
  },
  {
   "cell_type": "markdown",
   "metadata": {},
   "source": [
    "<img src=\"../images/cpa2.png\" width=800px>"
   ]
  },
  {
   "cell_type": "markdown",
   "metadata": {},
   "source": [
    "### 软件AES攻击示例"
   ]
  },
  {
   "cell_type": "markdown",
   "metadata": {},
   "source": [
    "我们已经能够在微控制器上运行AES的软件实现，在之前的配置中，微控制器可以通过串口助手或python pyserial库接收明文，对其进行加密，并返回相应的密文。作为设备的攻击者，可获得明文和对应的密文。\n",
    "\n",
    "我们采用CPA攻击方法攻击AES的软件实现，该方法包括5个步骤：\n",
    "\n",
    "1. 选择所执行算法的某个中间值；\n",
    "\n",
    "2. 测量能量消耗；\n",
    "\n",
    "3. 计算假设中间值；\n",
    "\n",
    "4. 将中间值映射为能量消耗值；\n",
    "\n",
    "5. 比较假设能量消耗值和能量迹。\n",
    "\n",
    "在具体的攻击中，我们决定选择第一轮中AES经过字节代换(SubByte)后的输出，该中间值是明文和密钥的函数。\n",
    "选择了这个中间值后，我们使用osrtoolkit采集平台记录了在AES第一轮执行期间，微处理器加密1000个不同明文时的能量消耗。\n",
    "然后可以直接使用python scared库中的CPA分析工具去恢复密钥。"
   ]
  },
  {
   "cell_type": "markdown",
   "metadata": {},
   "source": [
    "### 参考文献\n",
    "\n",
    "1. [Correlation power analysis with a leakage model.](../docs/CPA.pdf)"
   ]
  },
  {
   "cell_type": "markdown",
   "metadata": {},
   "source": [
    "## 实验过程"
   ]
  },
  {
   "cell_type": "code",
   "execution_count": 1,
   "metadata": {},
   "outputs": [],
   "source": [
    "from osrtoolkit.oscilloscope import Pico3000\n",
    "from osrtoolkit.trace import ETSStorer"
   ]
  },
  {
   "cell_type": "code",
   "execution_count": 2,
   "metadata": {},
   "outputs": [
    {
     "data": {
      "application/vnd.jupyter.widget-view+json": {
       "model_id": "c088157ce7c3409287ac315b692452a2",
       "version_major": 2,
       "version_minor": 0
      },
      "text/plain": [
       "VBox(children=(HTML(value=\"<center><h2 style='color:#333333'>Pico3000 Oscilloscope</h2></center>\", layout=Layo…"
      ]
     },
     "metadata": {},
     "output_type": "display_data"
    }
   ],
   "source": [
    "pico = Pico3000()  # 声明pico示波器对象\n",
    "pico.form  # 打开pico示波器配置界面"
   ]
  },
  {
   "cell_type": "markdown",
   "metadata": {},
   "source": [
    "### 对AES软件实现实施CPA攻击"
   ]
  },
  {
   "cell_type": "markdown",
   "metadata": {},
   "source": [
    "#### 导入eshard的scared库"
   ]
  },
  {
   "cell_type": "code",
   "execution_count": 3,
   "metadata": {},
   "outputs": [],
   "source": [
    "import scared\n",
    "from scared import aes\n",
    "import matplotlib.pyplot as plt\n",
    "import numpy as np"
   ]
  },
  {
   "cell_type": "markdown",
   "metadata": {},
   "source": [
    "#### 定义一个选择函数，对于所有可能的密钥假设，计算第一轮字节代换(SubByte)后输出的中间值。"
   ]
  },
  {
   "cell_type": "code",
   "execution_count": 4,
   "metadata": {},
   "outputs": [],
   "source": [
    "S = aes.selection_functions.encrypt.FirstSubBytes()\n",
    "key = bytes([0x00, 0x00, 0x00, 0x00,\n",
    "    0x00, 0x00, 0x00, 0x00,\n",
    "    0x00, 0x00, 0x00, 0x00,\n",
    "    0x00, 0x00, 0x00, 0x00,])"
   ]
  },
  {
   "cell_type": "markdown",
   "metadata": {},
   "source": [
    "#### 建立一个CPA攻击对象，参数包括选择函数，泄露模型以及判别函数。"
   ]
  },
  {
   "cell_type": "code",
   "execution_count": 5,
   "metadata": {},
   "outputs": [],
   "source": [
    "a = scared.CPAAttack(\n",
    "        selection_function=S,\n",
    "        model=scared.HammingWeight(),\n",
    "        discriminant=scared.maxabs)"
   ]
  },
  {
   "cell_type": "markdown",
   "metadata": {},
   "source": [
    "#### 攻击之前，需要一个能量迹容器将我们的TraceHeaderSet数据封装起来，同时指定攻击范围。"
   ]
  },
  {
   "cell_type": "code",
   "execution_count": 6,
   "metadata": {},
   "outputs": [],
   "source": [
    "# 补充轨迹文件名称\n",
    "ths = scared.traces.read_ths_from_ets_file('store.ets')"
   ]
  },
  {
   "cell_type": "code",
   "execution_count": 7,
   "metadata": {},
   "outputs": [],
   "source": [
    "container = scared.Container(ths)"
   ]
  },
  {
   "cell_type": "markdown",
   "metadata": {},
   "source": [
    "#### 执行攻击"
   ]
  },
  {
   "cell_type": "code",
   "execution_count": 9,
   "metadata": {},
   "outputs": [],
   "source": [
    "a.run(container)"
   ]
  },
  {
   "cell_type": "code",
   "execution_count": 10,
   "metadata": {},
   "outputs": [
    {
     "data": {
      "text/plain": [
       "(256, 16, 50000)"
      ]
     },
     "execution_count": 10,
     "metadata": {},
     "output_type": "execute_result"
    }
   ],
   "source": [
    "a.results.shape"
   ]
  },
  {
   "cell_type": "markdown",
   "metadata": {},
   "source": [
    "a.results 提供计算结果，包含每一个可能的假设密钥（16个字节，每个字节有256种可能）对应的假设能量消耗值与在每一个位置记录的能量迹之间的相关系数。"
   ]
  },
  {
   "cell_type": "code",
   "execution_count": 11,
   "metadata": {},
   "outputs": [
    {
     "data": {
      "image/png": "[encoded data removed]",
      "text/plain": [
       "<Figure size 432x288 with 1 Axes>"
      ]
     },
     "metadata": {
      "needs_background": "light"
     },
     "output_type": "display_data"
    }
   ],
   "source": [
    "plt.plot(a.results[:,0, :].T, 'C1')\n",
    "plt.plot(a.results[key[0], 0, :], 'C2')\n",
    "plt.show()"
   ]
  },
  {
   "cell_type": "markdown",
   "metadata": {},
   "source": [
    "上图显示，考虑密钥的第一个字节，当密钥假设为正确密钥值时，对应的相关性系数是所有密钥假设相关系数的最大值。"
   ]
  },
  {
   "cell_type": "markdown",
   "metadata": {},
   "source": [
    "#### 判断最佳候选密钥与软件AES所使用的密钥是否相等。"
   ]
  },
  {
   "cell_type": "code",
   "execution_count": 12,
   "metadata": {},
   "outputs": [
    {
     "data": {
      "text/plain": [
       "True"
      ]
     },
     "execution_count": 12,
     "metadata": {},
     "output_type": "execute_result"
    }
   ],
   "source": [
    "cpa_first_round_key = np.argmax(a.scores, axis=0) \n",
    "np.array_equal(bytearray(key), cpa_first_round_key)"
   ]
  },
  {
   "cell_type": "code",
   "execution_count": 13,
   "metadata": {},
   "outputs": [
    {
     "data": {
      "text/plain": [
       "array([0, 0, 0, 0, 0, 0, 0, 0, 0, 0, 0, 0, 0, 0, 0, 0], dtype=int64)"
      ]
     },
     "execution_count": 13,
     "metadata": {},
     "output_type": "execute_result"
    }
   ],
   "source": [
    "cpa_first_round_key"
   ]
  },
  {
   "cell_type": "markdown",
   "metadata": {},
   "source": [
    "a.scores 给出表现最好的候选密钥。\n",
    "\n",
    "攻击结果表明，我们对软件AES成功地实施了CPA攻击，恢复出正确密钥。"
   ]
  },
  {
   "cell_type": "code",
   "execution_count": null,
   "metadata": {},
   "outputs": [],
   "source": []
  },
  {
   "cell_type": "code",
   "execution_count": null,
   "metadata": {},
   "outputs": [],
   "source": []
  }
 ],
 "metadata": {
  "kernelspec": {
   "display_name": "crypto_lab",
   "language": "python",
   "name": "crypto_lab"
  },
  "language_info": {
   "codemirror_mode": {
    "name": "ipython",
    "version": 3
   },
   "file_extension": ".py",
   "mimetype": "text/x-python",
   "name": "python",
   "nbconvert_exporter": "python",
   "pygments_lexer": "ipython3",
   "version": "3.6.13"
  },
  "toc-autonumbering": true,
  "toc-showcode": false,
  "toc-showmarkdowntxt": false,
  "toc-showtags": true
 },
 "nbformat": 4,
 "nbformat_minor": 4
}
