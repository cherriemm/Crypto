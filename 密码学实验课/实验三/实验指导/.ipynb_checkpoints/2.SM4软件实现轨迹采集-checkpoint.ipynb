{
 "cells": [
  {
   "cell_type": "markdown",
   "metadata": {},
   "source": [
    "# 软件SM4算法轨迹采集"
   ]
  },
  {
   "cell_type": "markdown",
   "metadata": {},
   "source": [
    "## 实验目的"
   ]
  },
  {
   "cell_type": "markdown",
   "metadata": {},
   "source": [
    "通过实验，采集SM4软件实现轨迹。"
   ]
  },
  {
   "cell_type": "markdown",
   "metadata": {},
   "source": [
    "## 实验要求"
   ]
  },
  {
   "cell_type": "markdown",
   "metadata": {},
   "source": [
    "- 将[SM4软件](../../arduino工程/SM4/sm4.ino)实现下载烧写到`OSR-407`开发板；\n",
    "- 使用串口助手或python [pyserial](https://pypi.org/project/pyserial/) 库，与开发板进行通信；\n",
    "- 使用osrtoolkit示波器模块和波形存储类采集能量曲线；"
   ]
  },
  {
   "cell_type": "markdown",
   "metadata": {},
   "source": [
    "## 实验环境需求"
   ]
  },
  {
   "cell_type": "markdown",
   "metadata": {},
   "source": [
    "- **硬件需求**\n",
    "    + OSR-407开发板\n",
    "    + Pico 3206D示波器\n",
    "- **软件需求**\n",
    "    + Arduino IDE\n",
    "    + osrtoolkit平台\n",
    "    + python scared库"
   ]
  },
  {
   "cell_type": "markdown",
   "metadata": {},
   "source": [
    "## 实验过程"
   ]
  },
  {
   "cell_type": "markdown",
   "metadata": {},
   "source": [
    "### 与 TOE 进行通信"
   ]
  },
  {
   "cell_type": "code",
   "execution_count": 2,
   "metadata": {},
   "outputs": [],
   "source": [
    "import serial\n",
    "import numpy as np\n",
    "import time\n",
    "from osrtoolkit.cipher.sm4 import SM4\n",
    "from tqdm import tnrange\n",
    "from osrtoolkit.oscilloscope import Pico3000\n",
    "from osrtoolkit.trace import ETSStorer"
   ]
  },
  {
   "cell_type": "code",
   "execution_count": 3,
   "metadata": {},
   "outputs": [],
   "source": [
    "%matplotlib inline"
   ]
  },
  {
   "cell_type": "code",
   "execution_count": 4,
   "metadata": {},
   "outputs": [],
   "source": [
    "import matplotlib.pyplot as plt"
   ]
  },
  {
   "cell_type": "code",
   "execution_count": 5,
   "metadata": {},
   "outputs": [],
   "source": [
    "plt.rcParams['figure.figsize'] = 20,6"
   ]
  },
  {
   "cell_type": "code",
   "execution_count": 6,
   "metadata": {},
   "outputs": [],
   "source": [
    "toe = serial.Serial('COM3',115200, timeout=1)"
   ]
  },
  {
   "cell_type": "code",
   "execution_count": 7,
   "metadata": {},
   "outputs": [],
   "source": [
    "def get_meta():\n",
    "    p = np.random.randint(0, 256, 16, dtype=np.uint8)\n",
    "    send = p.tobytes()\n",
    "    toe.write(send)\n",
    "    recv = toe.read(16)\n",
    "    c = np.frombuffer(recv, dtype=np.uint8)\n",
    "    return p, c"
   ]
  },
  {
   "cell_type": "code",
   "execution_count": 8,
   "metadata": {},
   "outputs": [
    {
     "data": {
      "text/plain": [
       "(array([202, 132,  54,  98,  68, 175,  34, 198,  82, 160,  58,   3, 156,\n",
       "        239, 221, 120], dtype=uint8),\n",
       " array([245, 102, 182, 225,   6, 100, 242,  20, 108, 104, 112, 247, 226,\n",
       "         11, 188, 128], dtype=uint8))"
      ]
     },
     "execution_count": 8,
     "metadata": {},
     "output_type": "execute_result"
    }
   ],
   "source": [
    "get_meta()"
   ]
  },
  {
   "cell_type": "markdown",
   "metadata": {},
   "source": [
    "### 构建验证函数，在采集过程中对加密结果进行验证(非必须)"
   ]
  },
  {
   "cell_type": "code",
   "execution_count": 9,
   "metadata": {},
   "outputs": [],
   "source": [
    "key = np.array([0x01, 0x02, 0x03, 0x04, 0x05, 0x06, 0x07, 0x08,\n",
    "                   0x09, 0x0a, 0x0b, 0x0c, 0x0d, 0x0e, 0x0f, 0x10], dtype = np.uint8)"
   ]
  },
  {
   "cell_type": "code",
   "execution_count": 10,
   "metadata": {},
   "outputs": [],
   "source": [
    "def verify(p, c):\n",
    "    c_correct = SM4.encrypt(p, key)\n",
    "    return (c_correct==c).all()"
   ]
  },
  {
   "cell_type": "markdown",
   "metadata": {},
   "source": [
    "#### 验证一次meta数据"
   ]
  },
  {
   "cell_type": "code",
   "execution_count": 11,
   "metadata": {},
   "outputs": [
    {
     "data": {
      "text/plain": [
       "True"
      ]
     },
     "execution_count": 11,
     "metadata": {},
     "output_type": "execute_result"
    }
   ],
   "source": [
    "p,c = get_meta()\n",
    "verify(p, c)"
   ]
  },
  {
   "cell_type": "markdown",
   "metadata": {},
   "source": [
    "### 配置示波器控制模块\n"
   ]
  },
  {
   "cell_type": "code",
   "execution_count": 12,
   "metadata": {},
   "outputs": [
    {
     "data": {
      "application/vnd.jupyter.widget-view+json": {
       "model_id": "eeafd960fad34e0da1b80916fdf35490",
       "version_major": 2,
       "version_minor": 0
      },
      "text/plain": [
       "VBox(children=(HTML(value=\"<center><h2 style='color:#333333'>Pico3000 Oscilloscope</h2></center>\", layout=Layo…"
      ]
     },
     "metadata": {},
     "output_type": "display_data"
    }
   ],
   "source": [
    "pico = Pico3000()  # 声明pico示波器对象\n",
    "pico.form  # 打开pico示波器配置界面"
   ]
  },
  {
   "cell_type": "markdown",
   "metadata": {
    "toc-hr-collapsed": false
   },
   "source": [
    "### 触发示波器采集曲线并查看"
   ]
  },
  {
   "cell_type": "markdown",
   "metadata": {},
   "source": [
    "#### 采集一条曲线并查看"
   ]
  },
  {
   "cell_type": "code",
   "execution_count": 17,
   "metadata": {},
   "outputs": [
    {
     "data": {
      "text/plain": [
       "True"
      ]
     },
     "execution_count": 17,
     "metadata": {},
     "output_type": "execute_result"
    }
   ],
   "source": [
    "pico.arm()  # 将示波器置于等待触发模式，等待一次触发时间进行采集"
   ]
  },
  {
   "cell_type": "code",
   "execution_count": 18,
   "metadata": {},
   "outputs": [],
   "source": [
    "# 进行一次加密\n",
    "for j in range(pico.sequence_num):\n",
    "    get_meta()"
   ]
  },
  {
   "cell_type": "code",
   "execution_count": 19,
   "metadata": {},
   "outputs": [],
   "source": [
    "trs = pico.acquire_samples()  # 从pico示波器取回数据"
   ]
  },
  {
   "cell_type": "code",
   "execution_count": 20,
   "metadata": {},
   "outputs": [
    {
     "data": {
      "image/png": "[encoded data removed]",
      "text/plain": [
       "<Figure size 1440x432 with 1 Axes>"
      ]
     },
     "metadata": {
      "needs_background": "light"
     },
     "output_type": "display_data"
    }
   ],
   "source": [
    "plt.plot(trs[0][0].T)\n",
    "plt.grid()\n",
    "plt.show()"
   ]
  },
  {
   "cell_type": "markdown",
   "metadata": {},
   "source": [
    "### 波形存储"
   ]
  },
  {
   "cell_type": "code",
   "execution_count": 21,
   "metadata": {},
   "outputs": [],
   "source": [
    "ets = ETSStorer('store.ets', open_type='w')  # open_type = 'w' or 'a'，如果已经存在文件， 'w' 将覆盖, ‘a’ 将在原文件进行追加 "
   ]
  },
  {
   "cell_type": "markdown",
   "metadata": {
    "toc-hr-collapsed": false
   },
   "source": [
    "#### 以secquence模式采集1 万条曲线"
   ]
  },
  {
   "cell_type": "code",
   "execution_count": 22,
   "metadata": {},
   "outputs": [
    {
     "name": "stderr",
     "output_type": "stream",
     "text": [
      "D:\\apps\\conda\\envs\\crypto_lab\\lib\\site-packages\\ipykernel_launcher.py:4: TqdmDeprecationWarning: Please use `tqdm.notebook.trange` instead of `tqdm.tnrange`\n",
      "  after removing the cwd from sys.path.\n"
     ]
    },
    {
     "data": {
      "application/vnd.jupyter.widget-view+json": {
       "model_id": "cde387987f5046d4a2820335e3e1c4a6",
       "version_major": 2,
       "version_minor": 0
      },
      "text/plain": [
       "  0%|          | 0/500 [00:00<?, ?it/s]"
      ]
     },
     "metadata": {},
     "output_type": "display_data"
    }
   ],
   "source": [
    "from tqdm import tnrange\n",
    "import time\n",
    "\n",
    "for i in tnrange(10000//20):\n",
    "    # 采集一个secquence的数据\n",
    "    pico.arm()\n",
    "    plaintext = np.empty((pico.sequence_num, 16), dtype=np.uint8)\n",
    "    ciphertext = np.empty((pico.sequence_num, 16), dtype=np.uint8)\n",
    "    flag = True\n",
    "    for j in range(pico.sequence_num):\n",
    "        # 进行一次加密\n",
    "        m = get_meta()\n",
    "        # 验证开发板加密结果\n",
    "        if not verify(m[0], m[1]):\n",
    "            flag = False\n",
    "            break\n",
    "        plaintext[j] = m[0]\n",
    "        ciphertext[j] = m[1]\n",
    "    if not flag:\n",
    "        flag = True\n",
    "        print('ERROR')\n",
    "        continue\n",
    "    time.sleep(0.05)  # 这里必须对示波器进行一定的延迟后再进行数据拉取操作，以响应示波器时间\n",
    "    trs = pico.acquire_samples()\n",
    "    data = {'meta':{'plaintext': plaintext, 'ciphertext': ciphertext}, 'samples': trs}\n",
    "    ets.update(data)\n",
    "ets.finish()"
   ]
  },
  {
   "cell_type": "code",
   "execution_count": null,
   "metadata": {},
   "outputs": [],
   "source": []
  }
 ],
 "metadata": {
  "kernelspec": {
   "display_name": "crypto_lab",
   "language": "python",
   "name": "crypto_lab"
  },
  "language_info": {
   "codemirror_mode": {
    "name": "ipython",
    "version": 3
   },
   "file_extension": ".py",
   "mimetype": "text/x-python",
   "name": "python",
   "nbconvert_exporter": "python",
   "pygments_lexer": "ipython3",
   "version": "3.6.13"
  },
  "toc-autonumbering": true,
  "toc-showcode": false,
  "toc-showmarkdowntxt": false,
  "toc-showtags": true
 },
 "nbformat": 4,
 "nbformat_minor": 4
}
