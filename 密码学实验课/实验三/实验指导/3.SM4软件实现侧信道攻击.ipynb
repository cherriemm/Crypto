{
 "cells": [
  {
   "cell_type": "markdown",
   "metadata": {},
   "source": [
    "# 软件SM4算法侧信道攻击"
   ]
  },
  {
   "cell_type": "markdown",
   "metadata": {},
   "source": [
    "## 实验目的"
   ]
  },
  {
   "cell_type": "markdown",
   "metadata": {},
   "source": [
    "通过实验，掌握对SM4软件实现的CPA攻击方法，了解侧信道攻击的基本步骤。"
   ]
  },
  {
   "cell_type": "markdown",
   "metadata": {},
   "source": [
    "## 实验要求"
   ]
  },
  {
   "cell_type": "markdown",
   "metadata": {},
   "source": [
    "- 使用python [scared](https://github.com/eshard/scared) 库对软件SM4成功实施CPA攻击，恢复密钥。"
   ]
  },
  {
   "cell_type": "markdown",
   "metadata": {},
   "source": [
    "## 实验环境需求"
   ]
  },
  {
   "cell_type": "markdown",
   "metadata": {},
   "source": [
    "\n",
    "- **软件需求**\n",
    "    + osrtoolkit平台\n",
    "    + python scared库"
   ]
  },
  {
   "cell_type": "markdown",
   "metadata": {},
   "source": [
    "## 实验内容"
   ]
  },
  {
   "cell_type": "markdown",
   "metadata": {},
   "source": [
    "### CPA原理"
   ]
  },
  {
   "cell_type": "markdown",
   "metadata": {},
   "source": [
    "侧信道基本的模型假设如下图所示："
   ]
  },
  {
   "cell_type": "markdown",
   "metadata": {},
   "source": [
    "<img src=\"../images/侧信道攻击模型.png\" width=700px>"
   ]
  },
  {
   "cell_type": "markdown",
   "metadata": {},
   "source": [
    "攻击者监听密码算法运行泄露的侧信道信息（如功耗泄露）和通信信道信息（如明密文等），利用适当的模型和统计工具，建立密钥的区分器，对正确密钥进行恢复。"
   ]
  },
  {
   "cell_type": "markdown",
   "metadata": {},
   "source": [
    "相关能量攻击（CPA）是最常使用的一种攻击手段，利用相关性构建密钥区分器。其工作原理如下图所示："
   ]
  },
  {
   "cell_type": "markdown",
   "metadata": {},
   "source": [
    "<img src=\"../images/CPA.png\" width=600px>"
   ]
  },
  {
   "cell_type": "markdown",
   "metadata": {},
   "source": [
    "<img src=\"../images/cpa2.png\" width=800px>"
   ]
  },
  {
   "cell_type": "markdown",
   "metadata": {},
   "source": [
    "### 软件SM4攻击示例"
   ]
  },
  {
   "cell_type": "markdown",
   "metadata": {},
   "source": [
    "我们已经能够在微控制器上运行SM4的软件实现，在之前的配置中，微控制器可以通过串口助手或python pyserial库接收明文，对其进行加密，并返回相应的密文。作为设备的攻击者，可获得明文和对应的密文。\n",
    "\n",
    "我们采用CPA攻击方法攻击SM4的软件实现，该方法包括5个步骤：\n",
    "\n",
    "1. 选择所执行算法的某个中间值；\n",
    "\n",
    "2. 测量能量消耗；\n",
    "\n",
    "3. 计算假设中间值；\n",
    "\n",
    "4. 将中间值映射为能量消耗值；\n",
    "\n",
    "5. 比较假设能量消耗值和能量迹。\n",
    "\n",
    "和AES不同，SM4的主密钥恢复需要4轮的轮密钥。因此，我们对SM4的前4轮进行逐轮攻击。在具体的攻击中，我们选择每一轮中SM4经过字节代换后的输出，该中间值是明文和密钥的函数。\n",
    "选择了这个中间值后，我们使用osrtoolkit采集平台记录了在SM4前4轮执行期间，微处理器加密10000个不同明文时的能量消耗。\n",
    "然后可以直接使用python scared库中的CPA分析工具去恢复密钥。"
   ]
  },
  {
   "cell_type": "markdown",
   "metadata": {},
   "source": [
    "### 参考文献\n",
    "\n",
    "1. [Correlation power analysis with a leakage model.](../docs/CPA.pdf)"
   ]
  },
  {
   "cell_type": "markdown",
   "metadata": {},
   "source": [
    "## 实验过程"
   ]
  },
  {
   "cell_type": "markdown",
   "metadata": {},
   "source": [
    "### 对SM4软件实现实施CPA攻击"
   ]
  },
  {
   "cell_type": "markdown",
   "metadata": {},
   "source": [
    "#### 导入scared库"
   ]
  },
  {
   "cell_type": "code",
   "execution_count": 14,
   "metadata": {},
   "outputs": [],
   "source": [
    "import scared\n",
    "import matplotlib.pyplot as plt\n",
    "import numpy as np\n",
    "from osrtoolkit.cipher import sm4\n",
    "%matplotlib inline\n",
    "import matplotlib.pyplot as plt\n",
    "plt.rcParams['figure.figsize'] = 20,6"
   ]
  },
  {
   "cell_type": "markdown",
   "metadata": {},
   "source": [
    "#### 导入轨迹文件"
   ]
  },
  {
   "cell_type": "code",
   "execution_count": 15,
   "metadata": {},
   "outputs": [],
   "source": [
    "ths = scared.traces.read_ths_from_ets_file('store.ets')"
   ]
  },
  {
   "cell_type": "markdown",
   "metadata": {},
   "source": [
    "#### 攻击SM4第一轮加密"
   ]
  },
  {
   "cell_type": "code",
   "execution_count": 16,
   "metadata": {},
   "outputs": [],
   "source": [
    "@scared.attack_selection_function()\n",
    "def first_sub_bytes(plaintext, guesses):\n",
    "    x = plaintext[:, 4:8] ^ plaintext[:, 8:12] ^ plaintext[:, 12:16]\n",
    "    res = np.empty((x.shape[0], len(guesses), x.shape[1]), dtype='uint8')\n",
    "    for guess in guesses:\n",
    "        res[:, guess, :] = sm4.Constant.SBOX[x ^ guess]\n",
    "    return res"
   ]
  },
  {
   "cell_type": "code",
   "execution_count": 17,
   "metadata": {},
   "outputs": [],
   "source": [
    "# 补充攻击函数设置\n",
    "a = scared.CPAAttack(\n",
    "        selection_function= first_sub_bytes,\n",
    "        model=scared.HammingWeight(),\n",
    "        discriminant=scared.maxabs)"
   ]
  },
  {
   "cell_type": "code",
   "execution_count": 18,
   "metadata": {},
   "outputs": [],
   "source": [
    "container = scared.container.Container(ths)"
   ]
  },
  {
   "cell_type": "code",
   "execution_count": 19,
   "metadata": {},
   "outputs": [],
   "source": [
    "a.run(container)"
   ]
  },
  {
   "cell_type": "code",
   "execution_count": 20,
   "metadata": {},
   "outputs": [
    {
     "name": "stdout",
     "output_type": "stream",
     "text": [
      "[237 182 216 189]\n"
     ]
    }
   ],
   "source": [
    "round_key_1 = np.argmax(a.scores, axis=0)  # 第一轮轮密钥\n",
    "print(round_key_1)"
   ]
  },
  {
   "cell_type": "code",
   "execution_count": 21,
   "metadata": {},
   "outputs": [
    {
     "data": {
      "image/png": "[encoded data removed]",
      "text/plain": [
       "<Figure size 1440x432 with 4 Axes>"
      ]
     },
     "metadata": {
      "needs_background": "light"
     },
     "output_type": "display_data"
    }
   ],
   "source": [
    "for i in range(4):\n",
    "    plt.subplot(2,2,i+1)\n",
    "    plt.bar(range(256), a.scores[:, i])\n",
    "    plt.bar([round_key_1[i]], a.scores[round_key_1[i], i])\n",
    "    plt.xlabel('Key guesses')\n",
    "    plt.ylabel('score')\n",
    "    plt.title(f'byte {i}')\n",
    "plt.tight_layout()\n",
    "plt.show()"
   ]
  },
  {
   "cell_type": "markdown",
   "metadata": {},
   "source": [
    "#### 攻击SM4第二轮加密"
   ]
  },
  {
   "cell_type": "code",
   "execution_count": 22,
   "metadata": {},
   "outputs": [],
   "source": [
    "def sm4_round(plaintext, round_key):\n",
    "    '''根据轮密钥和明文，计算轮输出值\n",
    "    Parameters:\n",
    "            plaintext: 2 维ndarray, 最后一维有16个元素.\n",
    "            round_key: 2 维ndarray，第一维为轮数，第二维有4个元素，表示该轮的轮密钥\n",
    "    Output:\n",
    "        ciphertext: 2 维ndarray, 最后一维有16个元素.\n",
    "    '''\n",
    "    plaintext_to_use = sm4.SubFunction.bytes_to_word(plaintext).reshape((-1, 4))\n",
    "    round_key_word = sm4.SubFunction.bytes_to_word(round_key.reshape((-1, 4)))\n",
    "    ciphertext_to_use = np.copy(plaintext_to_use)\n",
    "    for current_round in range(len(round_key_word)):\n",
    "        save_state = np.copy(ciphertext_to_use)\n",
    "        ciphertext_to_use[:, 0] = ciphertext_to_use[:, 1] ^ ciphertext_to_use[:, 2] ^ ciphertext_to_use[:, 3] ^ round_key_word[current_round]\n",
    "        ciphertext_to_use[:, 1:4] = np.zeros((ciphertext_to_use.shape[0], 3), dtype=np.uint32)\n",
    "        ciphertext_to_use[:, 0] = sm4.SubFunction.sub_bytes(ciphertext_to_use[:, 0])\n",
    "        ciphertext_to_use[:, 0] = sm4.SubFunction.op_l(ciphertext_to_use[:, 0])\n",
    "        ciphertext_to_use = np.bitwise_xor(ciphertext_to_use, save_state)\n",
    "        ciphertext_to_use = np.roll(ciphertext_to_use, -1, axis=1)\n",
    "    cipher_bytes = sm4.SubFunction.word_to_bytes(ciphertext_to_use).reshape((-1, 16))\n",
    "    return cipher_bytes"
   ]
  },
  {
   "cell_type": "code",
   "execution_count": 23,
   "metadata": {},
   "outputs": [
    {
     "name": "stderr",
     "output_type": "stream",
     "text": [
      "D:\\apps\\conda\\envs\\crypto_lab\\lib\\site-packages\\osrtoolkit\\cipher\\sm4.py:71: UserWarning: dtype is not uint8\n",
      "  warnings.warn(\"dtype is not uint8\")\n"
     ]
    },
    {
     "data": {
      "text/plain": [
       "array([[ 73, 179, 206, 199, 240,  45, 183,  50, 188, 166, 173,  70, 175,\n",
       "        191, 171, 152]], dtype=uint8)"
      ]
     },
     "execution_count": 23,
     "metadata": {},
     "output_type": "execute_result"
    }
   ],
   "source": [
    "sm4_round(ths[0].plaintext, round_key_1)"
   ]
  },
  {
   "cell_type": "code",
   "execution_count": 26,
   "metadata": {},
   "outputs": [],
   "source": [
    "@scared.attack_selection_function()\n",
    "def second_sub_bytes(plaintext, guesses):\n",
    "    r1_out = sm4_round(plaintext, round_key_1)\n",
    "    x = r1_out[:, 4:8] ^ r1_out[:, 8:12] ^ r1_out[:, 12:16]  \n",
    "    res = np.empty((x.shape[0], len(guesses), x.shape[1]), dtype='uint8')\n",
    "    for guess in guesses:\n",
    "        res[:, guess, :] = sm4.Constant.SBOX[x ^ guess]\n",
    "    return res"
   ]
  },
  {
   "cell_type": "code",
   "execution_count": 27,
   "metadata": {},
   "outputs": [],
   "source": [
    "# 补充攻击函数设置\n",
    "a = scared.CPAAttack(\n",
    "        selection_function=second_sub_bytes,\n",
    "        model=scared.HammingWeight(),\n",
    "        discriminant=scared.maxabs)"
   ]
  },
  {
   "cell_type": "code",
   "execution_count": 28,
   "metadata": {},
   "outputs": [],
   "source": [
    "a.run(container)"
   ]
  },
  {
   "cell_type": "code",
   "execution_count": 29,
   "metadata": {},
   "outputs": [
    {
     "name": "stdout",
     "output_type": "stream",
     "text": [
      "[232 117 110 109]\n"
     ]
    }
   ],
   "source": [
    "round_key_2 = np.argmax(a.scores, axis=0)  # 第二轮轮密钥\n",
    "print(round_key_2)"
   ]
  },
  {
   "cell_type": "code",
   "execution_count": 32,
   "metadata": {},
   "outputs": [
    {
     "data": {
      "image/png": "[encoded data removed]",
      "text/plain": [
       "<Figure size 1440x432 with 4 Axes>"
      ]
     },
     "metadata": {
      "needs_background": "light"
     },
     "output_type": "display_data"
    }
   ],
   "source": [
    "for i in range(4):\n",
    "    plt.subplot(2,2,i+1)\n",
    "    plt.bar(range(256), a.scores[:, i])\n",
    "    plt.bar([round_key_2[i]], a.scores[round_key_2[i], i])\n",
    "    plt.xlabel('Key guesses')\n",
    "    plt.ylabel('score')\n",
    "    plt.title(f'byte {i}')\n",
    "plt.tight_layout()\n",
    "plt.show()"
   ]
  },
  {
   "cell_type": "markdown",
   "metadata": {},
   "source": [
    "#### 攻击SM4第三轮加密"
   ]
  },
  {
   "cell_type": "code",
   "execution_count": 33,
   "metadata": {},
   "outputs": [],
   "source": [
    "round_key = np.vstack((round_key_1, round_key_2))"
   ]
  },
  {
   "cell_type": "code",
   "execution_count": 34,
   "metadata": {},
   "outputs": [],
   "source": [
    "@scared.attack_selection_function()\n",
    "def third_sub_bytes(plaintext, guesses):\n",
    "    r1_out = sm4_round(plaintext, round_key)\n",
    "    x = r1_out[:, 4:8] ^ r1_out[:, 8:12] ^ r1_out[:, 12:16]  \n",
    "    res = np.empty((x.shape[0], len(guesses), x.shape[1]), dtype='uint8')\n",
    "    for guess in guesses:\n",
    "        res[:, guess, :] = sm4.Constant.SBOX[x ^ guess]\n",
    "    return res"
   ]
  },
  {
   "cell_type": "code",
   "execution_count": 35,
   "metadata": {},
   "outputs": [],
   "source": [
    "a = scared.CPAAttack(\n",
    "        selection_function=third_sub_bytes,\n",
    "        model=scared.HammingWeight(),\n",
    "        discriminant=scared.maxabs)"
   ]
  },
  {
   "cell_type": "code",
   "execution_count": 36,
   "metadata": {},
   "outputs": [],
   "source": [
    "a.run(container)"
   ]
  },
  {
   "cell_type": "code",
   "execution_count": 37,
   "metadata": {},
   "outputs": [
    {
     "name": "stdout",
     "output_type": "stream",
     "text": [
      "[ 13 149  75 211]\n"
     ]
    }
   ],
   "source": [
    "round_key_3 = np.argmax(a.scores, axis=0)  # 第三轮轮密钥\n",
    "print(round_key_3)"
   ]
  },
  {
   "cell_type": "code",
   "execution_count": 38,
   "metadata": {},
   "outputs": [
    {
     "data": {
      "image/png": "[encoded data removed]",
      "text/plain": [
       "<Figure size 1440x432 with 4 Axes>"
      ]
     },
     "metadata": {
      "needs_background": "light"
     },
     "output_type": "display_data"
    }
   ],
   "source": [
    "for i in range(4):\n",
    "    plt.subplot(2,2,i+1)\n",
    "    plt.bar(range(256), a.scores[:, i])\n",
    "    plt.bar([round_key_3[i]], a.scores[round_key_3[i], i])\n",
    "    plt.xlabel('Key guesses')\n",
    "    plt.ylabel('score')\n",
    "    plt.title(f'byte {i}')\n",
    "plt.tight_layout()\n",
    "plt.show()"
   ]
  },
  {
   "cell_type": "markdown",
   "metadata": {},
   "source": [
    "#### 攻击SM4第四轮加密"
   ]
  },
  {
   "cell_type": "code",
   "execution_count": 39,
   "metadata": {},
   "outputs": [],
   "source": [
    "round_key = np.vstack((round_key_1, round_key_2, round_key_3))"
   ]
  },
  {
   "cell_type": "code",
   "execution_count": 40,
   "metadata": {},
   "outputs": [
    {
     "data": {
      "text/plain": [
       "array([[237, 182, 216, 189],\n",
       "       [232, 117, 110, 109],\n",
       "       [ 13, 149,  75, 211]], dtype=int64)"
      ]
     },
     "execution_count": 40,
     "metadata": {},
     "output_type": "execute_result"
    }
   ],
   "source": [
    "round_key"
   ]
  },
  {
   "cell_type": "code",
   "execution_count": 41,
   "metadata": {},
   "outputs": [],
   "source": [
    "@scared.attack_selection_function()\n",
    "def fourth_sub_bytes(plaintext, guesses):\n",
    "    r1_out = sm4_round(plaintext, round_key)\n",
    "    x = r1_out[:, 4:8] ^ r1_out[:, 8:12] ^ r1_out[:, 12:16]  \n",
    "    res = np.empty((x.shape[0], len(guesses), x.shape[1]), dtype='uint8')\n",
    "    for guess in guesses:\n",
    "        res[:, guess, :] = sm4.Constant.SBOX[x ^ guess]\n",
    "    return res"
   ]
  },
  {
   "cell_type": "code",
   "execution_count": 42,
   "metadata": {},
   "outputs": [],
   "source": [
    "a = scared.CPAAttack(\n",
    "        selection_function=fourth_sub_bytes,\n",
    "        model=scared.HammingWeight(),\n",
    "        discriminant=scared.maxabs)"
   ]
  },
  {
   "cell_type": "code",
   "execution_count": 43,
   "metadata": {},
   "outputs": [],
   "source": [
    "a.run(container)"
   ]
  },
  {
   "cell_type": "code",
   "execution_count": 44,
   "metadata": {},
   "outputs": [
    {
     "name": "stdout",
     "output_type": "stream",
     "text": [
      "[ 13 210  61  94]\n"
     ]
    }
   ],
   "source": [
    "round_key_4 = np.argmax(a.scores, axis=0)  # 第四轮轮密钥\n",
    "print(round_key_4)"
   ]
  },
  {
   "cell_type": "code",
   "execution_count": 45,
   "metadata": {},
   "outputs": [
    {
     "data": {
      "image/png": "[encoded data removed]",
      "text/plain": [
       "<Figure size 1440x432 with 4 Axes>"
      ]
     },
     "metadata": {
      "needs_background": "light"
     },
     "output_type": "display_data"
    }
   ],
   "source": [
    "for i in range(4):\n",
    "    plt.subplot(2,2,i+1)\n",
    "    plt.bar(range(256), a.scores[:, i])\n",
    "    plt.bar([round_key_4[i]], a.scores[round_key_4[i], i])\n",
    "    plt.xlabel('Key guesses')\n",
    "    plt.ylabel('score')\n",
    "    plt.title(f'byte {i}')\n",
    "plt.tight_layout()\n",
    "plt.show()"
   ]
  },
  {
   "cell_type": "markdown",
   "metadata": {},
   "source": [
    "#### 恢复主密钥"
   ]
  },
  {
   "cell_type": "code",
   "execution_count": 46,
   "metadata": {},
   "outputs": [],
   "source": [
    "round_key = np.vstack((round_key_1, round_key_2, round_key_3, round_key_4))"
   ]
  },
  {
   "cell_type": "code",
   "execution_count": 47,
   "metadata": {},
   "outputs": [
    {
     "data": {
      "text/plain": [
       "array([[237, 182, 216, 189],\n",
       "       [232, 117, 110, 109],\n",
       "       [ 13, 149,  75, 211],\n",
       "       [ 13, 210,  61,  94]], dtype=int64)"
      ]
     },
     "execution_count": 47,
     "metadata": {},
     "output_type": "execute_result"
    }
   ],
   "source": [
    "round_key"
   ]
  },
  {
   "cell_type": "code",
   "execution_count": 48,
   "metadata": {},
   "outputs": [],
   "source": [
    "master_key = sm4.SubFunction.inv_key_schedule(round_key, 0)"
   ]
  },
  {
   "cell_type": "code",
   "execution_count": 49,
   "metadata": {},
   "outputs": [
    {
     "data": {
      "text/plain": [
       "'0102030405060708090a0b0c0d0e0f10'"
      ]
     },
     "execution_count": 49,
     "metadata": {},
     "output_type": "execute_result"
    }
   ],
   "source": [
    "''.join([hex(x)[2:].zfill(2) for x in master_key[0]])"
   ]
  },
  {
   "cell_type": "markdown",
   "metadata": {},
   "source": [
    "**我们成功对SM4的加密密钥进行恢复**"
   ]
  }
 ],
 "metadata": {
  "kernelspec": {
   "display_name": "Python 3 (ipykernel)",
   "language": "python",
   "name": "python3"
  },
  "language_info": {
   "codemirror_mode": {
    "name": "ipython",
    "version": 3
   },
   "file_extension": ".py",
   "mimetype": "text/x-python",
   "name": "python",
   "nbconvert_exporter": "python",
   "pygments_lexer": "ipython3",
   "version": "3.12.6"
  },
  "toc-autonumbering": true,
  "toc-showcode": false,
  "toc-showmarkdowntxt": false,
  "toc-showtags": true
 },
 "nbformat": 4,
 "nbformat_minor": 4
}
