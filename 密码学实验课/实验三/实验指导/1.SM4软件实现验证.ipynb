{
 "cells": [
  {
   "cell_type": "markdown",
   "metadata": {},
   "source": [
    "# SM4算法软件实现验证"
   ]
  },
  {
   "cell_type": "markdown",
   "metadata": {},
   "source": [
    "## 实验目的"
   ]
  },
  {
   "cell_type": "markdown",
   "metadata": {},
   "source": [
    "验证开发板写入的SM4软件实现算法是否正确。"
   ]
  },
  {
   "cell_type": "markdown",
   "metadata": {},
   "source": [
    "## 实验要求"
   ]
  },
  {
   "cell_type": "markdown",
   "metadata": {},
   "source": [
    "- 将[SM4软件](../../arduino工程/SM4/sm4.ino)实现下载烧写到`OSR-407`开发板；\n",
    "- 使用串口助手或python [pyserial](https://pypi.org/project/pyserial/) 库，与开发板进行通信；"
   ]
  },
  {
   "cell_type": "markdown",
   "metadata": {},
   "source": [
    "## 实验环境需求"
   ]
  },
  {
   "cell_type": "markdown",
   "metadata": {},
   "source": [
    "- **硬件需求**\n",
    "    + OSR-407开发板\n",
    "- **软件需求**\n",
    "    + Arduino IDE\n",
    "    + osrtoolkit平台\n"
   ]
  },
  {
   "cell_type": "markdown",
   "metadata": {
    "tags": []
   },
   "source": [
    "## 实验内容"
   ]
  },
  {
   "cell_type": "markdown",
   "metadata": {},
   "source": [
    "### 补充完整文件夹SM4中代码，并使用python与开发板进行通信，验证算法是否正确写入。"
   ]
  },
  {
   "cell_type": "markdown",
   "metadata": {},
   "source": [
    "## 实验过程"
   ]
  },
  {
   "cell_type": "markdown",
   "metadata": {
    "tags": []
   },
   "source": [
    "### 与 TOE 进行通信"
   ]
  },
  {
   "cell_type": "code",
   "execution_count": 5,
   "metadata": {},
   "outputs": [],
   "source": [
    "# 补充引用库\n",
    "import serial\n",
    "import numpy as np\n",
    "import time\n",
    "from osrtoolkit.cipher.sm4 import SM4"
   ]
  },
  {
   "cell_type": "code",
   "execution_count": 6,
   "metadata": {},
   "outputs": [],
   "source": [
    "# 补充参数\n",
    "toe = serial.Serial('COM3',115200, timeout=1)"
   ]
  },
  {
   "cell_type": "code",
   "execution_count": 7,
   "metadata": {},
   "outputs": [],
   "source": [
    "def get_meta():\n",
    "    # 补充参数\n",
    "    p = np.random.randint(0, 256, 16, dtype=np.uint8)\n",
    "    send = p.tobytes()\n",
    "    toe.write(send)\n",
    "    recv = toe.read(16)\n",
    "    c = np.frombuffer(recv, dtype=np.uint8)\n",
    "    return p, c"
   ]
  },
  {
   "cell_type": "code",
   "execution_count": 8,
   "metadata": {},
   "outputs": [
    {
     "data": {
      "text/plain": [
       "(array([ 70, 225,  99,  67, 142, 127, 173,  71, 124, 144,  44,  14, 182,\n",
       "        240, 128, 183], dtype=uint8),\n",
       " array([ 15, 175, 126,   3,  42, 180, 171, 215,  92, 216,  50, 129, 199,\n",
       "        229, 156, 143], dtype=uint8))"
      ]
     },
     "execution_count": 8,
     "metadata": {},
     "output_type": "execute_result"
    }
   ],
   "source": [
    "get_meta()"
   ]
  },
  {
   "cell_type": "markdown",
   "metadata": {},
   "source": [
    "### 构建验证函数，在采集过程中对加密结果进行验证"
   ]
  },
  {
   "cell_type": "code",
   "execution_count": 9,
   "metadata": {},
   "outputs": [],
   "source": [
    "# 补充参数\n",
    "key = np.array([0x01, 0x02, 0x03, 0x04, 0x05, 0x06, 0x07, 0x08,\n",
    "                0x09, 0x0a, 0x0b, 0x0c, 0x0d, 0x0e, 0x0f, 0x10], dtype = np.uint8)"
   ]
  },
  {
   "cell_type": "code",
   "execution_count": 10,
   "metadata": {},
   "outputs": [],
   "source": [
    "def verify(p, c):\n",
    "    # 补充函数\n",
    "    c_correct = SM4.encrypt(p, key)\n",
    "    return (c_correct==c).all()"
   ]
  },
  {
   "cell_type": "markdown",
   "metadata": {},
   "source": [
    "#### 验证一次meta数据"
   ]
  },
  {
   "cell_type": "code",
   "execution_count": 11,
   "metadata": {},
   "outputs": [
    {
     "data": {
      "text/plain": [
       "True"
      ]
     },
     "execution_count": 11,
     "metadata": {},
     "output_type": "execute_result"
    }
   ],
   "source": [
    "# 补充函数\n",
    "p,c = get_meta()\n",
    "verify(p, c)"
   ]
  },
  {
   "cell_type": "markdown",
   "metadata": {},
   "source": [
    "验证开发板加密效率"
   ]
  },
  {
   "cell_type": "code",
   "execution_count": 15,
   "metadata": {},
   "outputs": [],
   "source": [
    "import serial\n",
    "import numpy as np\n",
    "from osrtoolkit.cipher.sm4 import SM4\n",
    "import time"
   ]
  },
  {
   "cell_type": "code",
   "execution_count": 16,
   "metadata": {},
   "outputs": [],
   "source": [
    "mega = serial.Serial('COM3', 115200, timeout=1)\n",
    "\n",
    "def init():\n",
    "    # 产生随机明文，补全函数参数\n",
    "    p = np.random.randint(0, 256, 16, dtype=np.uint8)\n",
    "    send = p.tobytes()\n",
    "    # 发送数据到开发板，补全函数\n",
    "    mega.write(send)\n",
    "    # 读取加密结果，补全函数\n",
    "    recv = mega.read(16)\n",
    "    c = np.frombuffer(recv, dtype=np.uint8)\n",
    "    return p, c\n",
    "\n",
    "\n",
    "def send_and_receive(p):\n",
    "    mega.write(p.tobytes())\n",
    "    recv = mega.read(16)\n",
    "    c = np.frombuffer(recv, dtype=np.uint8)\n",
    "    return c\n",
    "\n",
    "def benchmark(iterations):\n",
    "    start = time.time()\n",
    "    print(start)\n",
    "    _, c = init()\n",
    "    p = c\n",
    "    for _ in range(1, iterations):\n",
    "        c = send_and_receive(p)\n",
    "        p = c\n",
    "    end = time.time()\n",
    "    print(end)\n",
    "    print(f\"执行{iterations}次加密，耗时: {end - start:.2f}秒\")"
   ]
  },
  {
   "cell_type": "code",
   "execution_count": 17,
   "metadata": {},
   "outputs": [
    {
     "name": "stdout",
     "output_type": "stream",
     "text": [
      "1730105552.499935\n",
      "1730105653.4423664\n",
      "执行100次加密，耗时: 100.94秒\n"
     ]
    }
   ],
   "source": [
    "# 测试不同次数的加密效率\n",
    "benchmark(100)"
   ]
  },
  {
   "cell_type": "code",
   "execution_count": null,
   "metadata": {},
   "outputs": [],
   "source": []
  },
  {
   "cell_type": "code",
   "execution_count": null,
   "metadata": {},
   "outputs": [],
   "source": []
  }
 ],
 "metadata": {
  "kernelspec": {
   "display_name": "crypto_lab",
   "language": "python",
   "name": "crypto_lab"
  },
  "language_info": {
   "codemirror_mode": {
    "name": "ipython",
    "version": 3
   },
   "file_extension": ".py",
   "mimetype": "text/x-python",
   "name": "python",
   "nbconvert_exporter": "python",
   "pygments_lexer": "ipython3",
   "version": "3.6.13"
  },
  "toc-autonumbering": true,
  "toc-showcode": false,
  "toc-showmarkdowntxt": false,
  "toc-showtags": true
 },
 "nbformat": 4,
 "nbformat_minor": 4
}
